{
 "cells": [
  {
   "cell_type": "markdown",
   "id": "98f96564",
   "metadata": {},
   "source": [
    "# Handwritten Digits Generator With a GAN"
   ]
  },
  {
   "cell_type": "code",
   "execution_count": 1,
   "id": "ae69fd25",
   "metadata": {},
   "outputs": [],
   "source": [
    "# Dependensies\n",
    "import torch\n",
    "from torch import nn\n",
    "\n",
    "import math\n",
    "import matplotlib.pyplot as plt\n",
    "import torchvision\n",
    "import torchvision.transforms as transforms"
   ]
  },
  {
   "cell_type": "code",
   "execution_count": 2,
   "id": "ddee796d",
   "metadata": {},
   "outputs": [
    {
     "data": {
      "text/plain": [
       "<torch._C.Generator at 0x217bda4f610>"
      ]
     },
     "execution_count": 2,
     "metadata": {},
     "output_type": "execute_result"
    }
   ],
   "source": [
    "torch.manual_seed(111)\n"
   ]
  },
  {
   "cell_type": "code",
   "execution_count": 4,
   "id": "4c324f97",
   "metadata": {},
   "outputs": [
    {
     "name": "stdout",
     "output_type": "stream",
     "text": [
      "cuda\n"
     ]
    }
   ],
   "source": [
    "device = \"\"\n",
    "if torch.cuda.is_available():\n",
    "    device = torch.device(\"cuda\")\n",
    "else:\n",
    "    device = torch.device(\"cpu\")\n",
    "print(device)"
   ]
  },
  {
   "cell_type": "markdown",
   "id": "20ce84ff",
   "metadata": {},
   "source": [
    "## Preparing the Training Data"
   ]
  },
  {
   "cell_type": "code",
   "execution_count": 6,
   "id": "307e3d0f",
   "metadata": {},
   "outputs": [],
   "source": [
    "\"\"\"\n",
    "transforms.ToTensor() converts the data to a PyTorch tensor.\n",
    "transforms.Normalize() converts the range of the tensor coefficients. suntract by 0.5 and divide by 0.5\n",
    "\"\"\"\n",
    "\n",
    "transform = transforms.Compose(\n",
    "    [transforms.ToTensor(), transforms.Normalize((0.5,), (0.5,))]\n",
    ")"
   ]
  },
  {
   "cell_type": "code",
   "execution_count": 7,
   "id": "c8abe1fb",
   "metadata": {},
   "outputs": [
    {
     "name": "stdout",
     "output_type": "stream",
     "text": [
      "Downloading http://yann.lecun.com/exdb/mnist/train-images-idx3-ubyte.gz to .\\MNIST\\raw\\train-images-idx3-ubyte.gz\n"
     ]
    },
    {
     "name": "stderr",
     "output_type": "stream",
     "text": [
      "100.1%"
     ]
    },
    {
     "name": "stdout",
     "output_type": "stream",
     "text": [
      "Extracting .\\MNIST\\raw\\train-images-idx3-ubyte.gz to .\\MNIST\\raw\n"
     ]
    },
    {
     "name": "stderr",
     "output_type": "stream",
     "text": [
      "32.8%%"
     ]
    },
    {
     "name": "stdout",
     "output_type": "stream",
     "text": [
      "Downloading http://yann.lecun.com/exdb/mnist/train-labels-idx1-ubyte.gz to .\\MNIST\\raw\\train-labels-idx1-ubyte.gz\n",
      "Extracting .\\MNIST\\raw\\train-labels-idx1-ubyte.gz to .\\MNIST\\raw\n",
      "Downloading http://yann.lecun.com/exdb/mnist/t10k-images-idx3-ubyte.gz to .\\MNIST\\raw\\t10k-images-idx3-ubyte.gz\n"
     ]
    },
    {
     "name": "stderr",
     "output_type": "stream",
     "text": [
      "100.4%"
     ]
    },
    {
     "name": "stdout",
     "output_type": "stream",
     "text": [
      "Extracting .\\MNIST\\raw\\t10k-images-idx3-ubyte.gz to .\\MNIST\\raw\n",
      "Downloading http://yann.lecun.com/exdb/mnist/t10k-labels-idx1-ubyte.gz to .\\MNIST\\raw\\t10k-labels-idx1-ubyte.gz\n"
     ]
    },
    {
     "name": "stderr",
     "output_type": "stream",
     "text": [
      "180.4%"
     ]
    },
    {
     "name": "stdout",
     "output_type": "stream",
     "text": [
      "Extracting .\\MNIST\\raw\\t10k-labels-idx1-ubyte.gz to .\\MNIST\\raw\n",
      "Processing...\n",
      "Done!\n"
     ]
    }
   ],
   "source": [
    "# Load the MNIST data and also transform it\n",
    "\n",
    "train_set = torchvision.datasets.MNIST(\n",
    "    root=\".\", train=True, download=True, transform=transform\n",
    ")"
   ]
  },
  {
   "cell_type": "code",
   "execution_count": 9,
   "id": "291efc24",
   "metadata": {},
   "outputs": [],
   "source": [
    "# Dataloaders\n",
    "batch_size = 32\n",
    "train_loader = torch.utils.data.DataLoader(\n",
    "    train_set, batch_size=batch_size, shuffle=True\n",
    ")\n"
   ]
  },
  {
   "cell_type": "code",
   "execution_count": 10,
   "id": "e393ee06",
   "metadata": {},
   "outputs": [
    {
     "data": {
      "image/png": "[encoded data removed]",
      "text/plain": [
       "<Figure size 432x288 with 16 Axes>"
      ]
     },
     "metadata": {},
     "output_type": "display_data"
    }
   ],
   "source": [
    "# Plot the training data\n",
    "\n",
    "real_samples, mnist_labels = next(iter(train_loader))\n",
    "for i in range(16):\n",
    "    ax = plt.subplot(4, 4, i + 1)\n",
    "    plt.imshow(real_samples[i].reshape(28, 28), cmap=\"gray_r\")\n",
    "    plt.xticks([])\n",
    "    plt.yticks([])"
   ]
  },
  {
   "cell_type": "markdown",
   "id": "d92ecd16",
   "metadata": {},
   "source": [
    "## Implementing the Discriminator and the Generator"
   ]
  },
  {
   "cell_type": "code",
   "execution_count": 11,
   "id": "8564b94c",
   "metadata": {},
   "outputs": [],
   "source": [
    "# Discriminator\n",
    "\n",
    "class Discriminator(nn.Module):\n",
    "    def __init__(self):\n",
    "        super().__init__()\n",
    "        self.model = nn.Sequential(\n",
    "            nn.Linear(784, 1024),\n",
    "            nn.ReLU(),\n",
    "            nn.Dropout(0.3),\n",
    "            nn.Linear(1024, 512),\n",
    "            nn.ReLU(),\n",
    "            nn.Dropout(0.3),\n",
    "            nn.Linear(512, 256),\n",
    "            nn.ReLU(),\n",
    "            nn.Dropout(0.3),\n",
    "            nn.Linear(256, 1),\n",
    "            nn.Sigmoid(),\n",
    "        )\n",
    "\n",
    "    def forward(self, x):\n",
    "        x = x.view(x.size(0), 784)\n",
    "        output = self.model(x)\n",
    "        return output"
   ]
  },
  {
   "cell_type": "code",
   "execution_count": 14,
   "id": "6e2a1893",
   "metadata": {},
   "outputs": [],
   "source": [
    "# Load to the device cuda or cpu\n",
    "discriminator = Discriminator().to(device=device)\n"
   ]
  },
  {
   "cell_type": "code",
   "execution_count": 15,
   "id": "fc8dcc67",
   "metadata": {},
   "outputs": [],
   "source": [
    "# Generators\n",
    "\n",
    "class Generator(nn.Module):\n",
    "    def __init__(self):\n",
    "        super().__init__()\n",
    "        self.model = nn.Sequential(\n",
    "            nn.Linear(100, 256),\n",
    "            nn.ReLU(),\n",
    "            nn.Linear(256, 512),\n",
    "            nn.ReLU(),\n",
    "            nn.Linear(512, 1024),\n",
    "            nn.ReLU(),\n",
    "            nn.Linear(1024, 784),\n",
    "            nn.Tanh(), # Tanh() as the activation of the output layer since the \n",
    "                       # output coefficients should be in the interval from -1 to 1. \n",
    "        )\n",
    "\n",
    "    def forward(self, x):\n",
    "        output = self.model(x)\n",
    "        output = output.view(x.size(0), 1, 28, 28)\n",
    "        return output\n",
    "\n",
    "generator = Generator().to(device=device)"
   ]
  },
  {
   "cell_type": "markdown",
   "id": "f1d6c6b2",
   "metadata": {},
   "source": [
    "## Training the Models\n",
    "\n",
    "To obtain a better result, you decrease the learning rate from the previous example. You also set the number of epochs to 50 to reduce the training time."
   ]
  },
  {
   "cell_type": "code",
   "execution_count": 16,
   "id": "44322a7b",
   "metadata": {},
   "outputs": [],
   "source": [
    "# set the parameters and the optimizers\n",
    "\n",
    "lr = 0.0001\n",
    "num_epochs = 50\n",
    "loss_function = nn.BCELoss()\n",
    "\n",
    "optimizer_discriminator = torch.optim.Adam(discriminator.parameters(), lr=lr)\n",
    "optimizer_generator = torch.optim.Adam(generator.parameters(), lr=lr)"
   ]
  },
  {
   "cell_type": "code",
   "execution_count": 17,
   "id": "387229f6",
   "metadata": {},
   "outputs": [
    {
     "name": "stdout",
     "output_type": "stream",
     "text": [
      "Epoch: 0 Loss D.: 0.5451085567474365\n",
      "Epoch: 0 Loss G.: 0.5333892107009888\n",
      "Epoch: 1 Loss D.: 0.09028621762990952\n",
      "Epoch: 1 Loss G.: 4.402927398681641\n",
      "Epoch: 2 Loss D.: 0.16547852754592896\n",
      "Epoch: 2 Loss G.: 4.659501552581787\n",
      "Epoch: 3 Loss D.: 0.023783911019563675\n",
      "Epoch: 3 Loss G.: 4.915231227874756\n",
      "Epoch: 4 Loss D.: 0.13356366753578186\n",
      "Epoch: 4 Loss G.: 5.575718879699707\n",
      "Epoch: 5 Loss D.: 0.10301870107650757\n",
      "Epoch: 5 Loss G.: 4.015848159790039\n",
      "Epoch: 6 Loss D.: 0.14672406017780304\n",
      "Epoch: 6 Loss G.: 2.852285861968994\n",
      "Epoch: 7 Loss D.: 0.33574241399765015\n",
      "Epoch: 7 Loss G.: 2.6770527362823486\n",
      "Epoch: 8 Loss D.: 0.31824976205825806\n",
      "Epoch: 8 Loss G.: 2.0975141525268555\n",
      "Epoch: 9 Loss D.: 0.40259796380996704\n",
      "Epoch: 9 Loss G.: 2.364253520965576\n",
      "Epoch: 10 Loss D.: 0.3554280400276184\n",
      "Epoch: 10 Loss G.: 1.8860251903533936\n",
      "Epoch: 11 Loss D.: 0.4092288017272949\n",
      "Epoch: 11 Loss G.: 1.5370371341705322\n",
      "Epoch: 12 Loss D.: 0.25355827808380127\n",
      "Epoch: 12 Loss G.: 1.797617793083191\n",
      "Epoch: 13 Loss D.: 0.36506885290145874\n",
      "Epoch: 13 Loss G.: 1.594892978668213\n",
      "Epoch: 14 Loss D.: 0.36763089895248413\n",
      "Epoch: 14 Loss G.: 1.5592000484466553\n",
      "Epoch: 15 Loss D.: 0.5414292812347412\n",
      "Epoch: 15 Loss G.: 1.4107478857040405\n",
      "Epoch: 16 Loss D.: 0.46902045607566833\n",
      "Epoch: 16 Loss G.: 1.313401460647583\n",
      "Epoch: 17 Loss D.: 0.4778038263320923\n",
      "Epoch: 17 Loss G.: 1.1650645732879639\n",
      "Epoch: 18 Loss D.: 0.42699897289276123\n",
      "Epoch: 18 Loss G.: 1.174708366394043\n",
      "Epoch: 19 Loss D.: 0.4792231023311615\n",
      "Epoch: 19 Loss G.: 1.3796496391296387\n",
      "Epoch: 20 Loss D.: 0.5426558256149292\n",
      "Epoch: 20 Loss G.: 1.1984004974365234\n",
      "Epoch: 21 Loss D.: 0.4944814443588257\n",
      "Epoch: 21 Loss G.: 1.1589152812957764\n",
      "Epoch: 22 Loss D.: 0.4989691972732544\n",
      "Epoch: 22 Loss G.: 1.2293809652328491\n",
      "Epoch: 23 Loss D.: 0.5766856074333191\n",
      "Epoch: 23 Loss G.: 0.8983888626098633\n",
      "Epoch: 24 Loss D.: 0.7195005416870117\n",
      "Epoch: 24 Loss G.: 1.04262113571167\n",
      "Epoch: 25 Loss D.: 0.570618748664856\n",
      "Epoch: 25 Loss G.: 1.0138291120529175\n",
      "Epoch: 26 Loss D.: 0.5127961039543152\n",
      "Epoch: 26 Loss G.: 1.2043215036392212\n",
      "Epoch: 27 Loss D.: 0.542955219745636\n",
      "Epoch: 27 Loss G.: 1.05514395236969\n",
      "Epoch: 28 Loss D.: 0.4787861704826355\n",
      "Epoch: 28 Loss G.: 1.1046524047851562\n",
      "Epoch: 29 Loss D.: 0.5730770826339722\n",
      "Epoch: 29 Loss G.: 1.0323129892349243\n",
      "Epoch: 30 Loss D.: 0.5247015953063965\n",
      "Epoch: 30 Loss G.: 0.8182021975517273\n",
      "Epoch: 31 Loss D.: 0.45361220836639404\n",
      "Epoch: 31 Loss G.: 0.9226529002189636\n",
      "Epoch: 32 Loss D.: 0.603087306022644\n",
      "Epoch: 32 Loss G.: 0.9883326888084412\n",
      "Epoch: 33 Loss D.: 0.5973935127258301\n",
      "Epoch: 33 Loss G.: 0.9477696418762207\n",
      "Epoch: 34 Loss D.: 0.603744626045227\n",
      "Epoch: 34 Loss G.: 0.9184591770172119\n",
      "Epoch: 35 Loss D.: 0.5857886075973511\n",
      "Epoch: 35 Loss G.: 0.9705673456192017\n",
      "Epoch: 36 Loss D.: 0.6614416241645813\n",
      "Epoch: 36 Loss G.: 0.9240198731422424\n",
      "Epoch: 37 Loss D.: 0.4956589341163635\n",
      "Epoch: 37 Loss G.: 1.0422954559326172\n",
      "Epoch: 38 Loss D.: 0.6702312231063843\n",
      "Epoch: 38 Loss G.: 0.8729938268661499\n",
      "Epoch: 39 Loss D.: 0.6021542549133301\n",
      "Epoch: 39 Loss G.: 0.8035687208175659\n",
      "Epoch: 40 Loss D.: 0.5773980021476746\n",
      "Epoch: 40 Loss G.: 1.0116841793060303\n",
      "Epoch: 41 Loss D.: 0.7156849503517151\n",
      "Epoch: 41 Loss G.: 0.9745296835899353\n",
      "Epoch: 42 Loss D.: 0.5942020416259766\n",
      "Epoch: 42 Loss G.: 1.1368743181228638\n",
      "Epoch: 43 Loss D.: 0.566550612449646\n",
      "Epoch: 43 Loss G.: 1.1615989208221436\n",
      "Epoch: 44 Loss D.: 0.6500856876373291\n",
      "Epoch: 44 Loss G.: 1.0251586437225342\n",
      "Epoch: 45 Loss D.: 0.6870627403259277\n",
      "Epoch: 45 Loss G.: 1.0064444541931152\n",
      "Epoch: 46 Loss D.: 0.6094229221343994\n",
      "Epoch: 46 Loss G.: 0.9873858690261841\n",
      "Epoch: 47 Loss D.: 0.5434170365333557\n",
      "Epoch: 47 Loss G.: 0.9890273809432983\n",
      "Epoch: 48 Loss D.: 0.5756181478500366\n",
      "Epoch: 48 Loss G.: 0.9649937152862549\n",
      "Epoch: 49 Loss D.: 0.5319409370422363\n",
      "Epoch: 49 Loss G.: 1.0144085884094238\n"
     ]
    }
   ],
   "source": [
    "for epoch in range(num_epochs):\n",
    "    for n, (real_samples, mnist_labels) in enumerate(train_loader):\n",
    "        # Data for training the discriminator\n",
    "        real_samples = real_samples.to(device=device)\n",
    "        real_samples_labels = torch.ones((batch_size, 1)).to(\n",
    "            device=device\n",
    "        )\n",
    "        latent_space_samples = torch.randn((batch_size, 100)).to(\n",
    "            device=device\n",
    "        )\n",
    "        generated_samples = generator(latent_space_samples)\n",
    "        generated_samples_labels = torch.zeros((batch_size, 1)).to(\n",
    "            device=device\n",
    "        )\n",
    "        all_samples = torch.cat((real_samples, generated_samples))\n",
    "        all_samples_labels = torch.cat(\n",
    "            (real_samples_labels, generated_samples_labels)\n",
    "        )\n",
    "\n",
    "        # Training the discriminator\n",
    "        discriminator.zero_grad()\n",
    "        output_discriminator = discriminator(all_samples)\n",
    "        loss_discriminator = loss_function(\n",
    "            output_discriminator, all_samples_labels\n",
    "        )\n",
    "        loss_discriminator.backward()\n",
    "        optimizer_discriminator.step()\n",
    "\n",
    "        # Data for training the generator\n",
    "        latent_space_samples = torch.randn((batch_size, 100)).to(\n",
    "            device=device\n",
    "        )\n",
    "\n",
    "        # Training the generator\n",
    "        generator.zero_grad()\n",
    "        generated_samples = generator(latent_space_samples)\n",
    "        output_discriminator_generated = discriminator(generated_samples)\n",
    "        loss_generator = loss_function(\n",
    "            output_discriminator_generated, real_samples_labels\n",
    "        )\n",
    "        loss_generator.backward()\n",
    "        optimizer_generator.step()\n",
    "\n",
    "        # Show loss\n",
    "        if n == batch_size - 1:\n",
    "            print(f\"Epoch: {epoch} Loss D.: {loss_discriminator}\")\n",
    "            print(f\"Epoch: {epoch} Loss G.: {loss_generator}\")"
   ]
  },
  {
   "cell_type": "markdown",
   "id": "5a35fcb5",
   "metadata": {},
   "source": [
    "## Checking the Samples Generated by the GAN"
   ]
  },
  {
   "cell_type": "code",
   "execution_count": 18,
   "id": "ea3e265e",
   "metadata": {},
   "outputs": [],
   "source": [
    "latent_space_samples = torch.randn(batch_size, 100).to(device=device)\n",
    "generated_samples = generator(latent_space_samples)"
   ]
  },
  {
   "cell_type": "code",
   "execution_count": 19,
   "id": "b8c2dd15",
   "metadata": {},
   "outputs": [
    {
     "data": {
      "image/png": "[encoded data removed]",
      "text/plain": [
       "<Figure size 432x288 with 16 Axes>"
      ]
     },
     "metadata": {},
     "output_type": "display_data"
    }
   ],
   "source": [
    "generated_samples = generated_samples.cpu().detach()\n",
    "for i in range(16):\n",
    "    ax = plt.subplot(4, 4, i + 1)\n",
    "    plt.imshow(generated_samples[i].reshape(28, 28), cmap=\"gray_r\")\n",
    "    plt.xticks([])\n",
    "    plt.yticks([])"
   ]
  },
  {
   "cell_type": "code",
   "execution_count": null,
   "id": "c0cf6cfd",
   "metadata": {},
   "outputs": [],
   "source": []
  }
 ],
 "metadata": {
  "kernelspec": {
   "display_name": "gans",
   "language": "python",
   "name": "gans"
  },
  "language_info": {
   "codemirror_mode": {
    "name": "ipython",
    "version": 3
   },
   "file_extension": ".py",
   "mimetype": "text/x-python",
   "name": "python",
   "nbconvert_exporter": "python",
   "pygments_lexer": "ipython3",
   "version": "3.8.13"
  }
 },
 "nbformat": 4,
 "nbformat_minor": 5
}
